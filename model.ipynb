{
 "cells": [
  {
   "cell_type": "markdown",
   "metadata": {},
   "source": [
    "ส่วนที่ 1: การนำเข้า Libraries และโหลดข้อมูล"
   ]
  },
  {
   "cell_type": "code",
   "execution_count": 1,
   "metadata": {},
   "outputs": [
    {
     "name": "stdout",
     "output_type": "stream",
     "text": [
      "<class 'pandas.core.frame.DataFrame'>\n",
      "RangeIndex: 415975 entries, 0 to 415974\n",
      "Data columns (total 7 columns):\n",
      " #   Column  Non-Null Count   Dtype         \n",
      "---  ------  --------------   -----         \n",
      " 0   time    415975 non-null  datetime64[ns]\n",
      " 1   open    415975 non-null  float64       \n",
      " 2   high    415975 non-null  float64       \n",
      " 3   low     415975 non-null  float64       \n",
      " 4   close   415975 non-null  float64       \n",
      " 5   rsi14   415975 non-null  float64       \n",
      " 6   sma14   415975 non-null  float64       \n",
      "dtypes: datetime64[ns](1), float64(6)\n",
      "memory usage: 22.2 MB\n"
     ]
    },
    {
     "data": {
      "text/html": [
       "<div>\n",
       "<style scoped>\n",
       "    .dataframe tbody tr th:only-of-type {\n",
       "        vertical-align: middle;\n",
       "    }\n",
       "\n",
       "    .dataframe tbody tr th {\n",
       "        vertical-align: top;\n",
       "    }\n",
       "\n",
       "    .dataframe thead th {\n",
       "        text-align: right;\n",
       "    }\n",
       "</style>\n",
       "<table border=\"1\" class=\"dataframe\">\n",
       "  <thead>\n",
       "    <tr style=\"text-align: right;\">\n",
       "      <th></th>\n",
       "      <th>time</th>\n",
       "      <th>open</th>\n",
       "      <th>high</th>\n",
       "      <th>low</th>\n",
       "      <th>close</th>\n",
       "      <th>rsi14</th>\n",
       "      <th>sma14</th>\n",
       "    </tr>\n",
       "  </thead>\n",
       "  <tbody>\n",
       "    <tr>\n",
       "      <th>0</th>\n",
       "      <td>2018-01-01 18:00:00</td>\n",
       "      <td>1302.34</td>\n",
       "      <td>1303.24</td>\n",
       "      <td>1302.34</td>\n",
       "      <td>1302.94</td>\n",
       "      <td>50.02</td>\n",
       "      <td>1302.70</td>\n",
       "    </tr>\n",
       "    <tr>\n",
       "      <th>1</th>\n",
       "      <td>2018-01-01 18:05:00</td>\n",
       "      <td>1302.94</td>\n",
       "      <td>1303.17</td>\n",
       "      <td>1302.71</td>\n",
       "      <td>1303.04</td>\n",
       "      <td>51.39</td>\n",
       "      <td>1302.69</td>\n",
       "    </tr>\n",
       "    <tr>\n",
       "      <th>2</th>\n",
       "      <td>2018-01-01 18:10:00</td>\n",
       "      <td>1303.03</td>\n",
       "      <td>1303.73</td>\n",
       "      <td>1302.93</td>\n",
       "      <td>1303.73</td>\n",
       "      <td>59.61</td>\n",
       "      <td>1302.73</td>\n",
       "    </tr>\n",
       "    <tr>\n",
       "      <th>3</th>\n",
       "      <td>2018-01-01 18:15:00</td>\n",
       "      <td>1303.72</td>\n",
       "      <td>1304.10</td>\n",
       "      <td>1303.58</td>\n",
       "      <td>1303.70</td>\n",
       "      <td>59.14</td>\n",
       "      <td>1302.77</td>\n",
       "    </tr>\n",
       "    <tr>\n",
       "      <th>4</th>\n",
       "      <td>2018-01-01 18:20:00</td>\n",
       "      <td>1303.71</td>\n",
       "      <td>1304.82</td>\n",
       "      <td>1303.71</td>\n",
       "      <td>1304.78</td>\n",
       "      <td>68.68</td>\n",
       "      <td>1302.88</td>\n",
       "    </tr>\n",
       "  </tbody>\n",
       "</table>\n",
       "</div>"
      ],
      "text/plain": [
       "                 time     open     high      low    close  rsi14    sma14\n",
       "0 2018-01-01 18:00:00  1302.34  1303.24  1302.34  1302.94  50.02  1302.70\n",
       "1 2018-01-01 18:05:00  1302.94  1303.17  1302.71  1303.04  51.39  1302.69\n",
       "2 2018-01-01 18:10:00  1303.03  1303.73  1302.93  1303.73  59.61  1302.73\n",
       "3 2018-01-01 18:15:00  1303.72  1304.10  1303.58  1303.70  59.14  1302.77\n",
       "4 2018-01-01 18:20:00  1303.71  1304.82  1303.71  1304.78  68.68  1302.88"
      ]
     },
     "execution_count": 1,
     "metadata": {},
     "output_type": "execute_result"
    }
   ],
   "source": [
    "import pandas as pd\n",
    "import numpy as np\n",
    "from sklearn.preprocessing import MinMaxScaler\n",
    "from sklearn.model_selection import train_test_split\n",
    "import warnings\n",
    "import matplotlib.pyplot as plt\n",
    "from tensorflow.keras.models import Sequential\n",
    "from tensorflow.keras.layers import LSTM, Dense, Dropout\n",
    "from scikeras.wrappers import KerasRegressor\n",
    "from tensorflow.keras.optimizers import Adam\n",
    "from sklearn.metrics import mean_squared_error\n",
    "from sklearn.model_selection import GridSearchCV\n",
    "warnings.filterwarnings('ignore')\n",
    "\n",
    "# Load and inspect the dataset\n",
    "file_path = 'data/xauusd.csv'\n",
    "xausd_data = pd.read_csv(file_path)\n",
    "xausd_data['time'] = pd.to_datetime(xausd_data['time'], dayfirst=True)\n",
    "\n",
    "# Display dataset info and the first few rows\n",
    "xausd_data.info()\n",
    "xausd_data.head()"
   ]
  },
  {
   "cell_type": "markdown",
   "metadata": {},
   "source": [
    "ส่วนที่ 2: การสร้างฟีเจอร์จากข้อมูล (Feature Engineering)"
   ]
  },
  {
   "cell_type": "code",
   "execution_count": 2,
   "metadata": {},
   "outputs": [],
   "source": [
    "# Feature Engineering - Creating Lagged Features\n",
    "xausd_data['rsi14_lag1'] = xausd_data['rsi14'].shift(1)  # Lag feature for RSI\n",
    "xausd_data['sma14_lag1'] = xausd_data['sma14'].shift(1)  # Lag feature for SMA\n",
    "\n",
    "# Drop NaN values that result from shifting\n",
    "xausd_data.dropna(inplace=True)\n",
    "\n",
    "# Splitting the dataset into features and target\n",
    "X = xausd_data[['open', 'high', 'low','rsi14_lag1', 'sma14_lag1']]\n",
    "y = xausd_data['close']  # Target is the closing price\n",
    "\n"
   ]
  },
  {
   "cell_type": "markdown",
   "metadata": {},
   "source": [
    "ส่วนที่ 3: การปรับแต่งข้อมูลด้วย MinMaxScaler และการแบ่งข้อมูล"
   ]
  },
  {
   "cell_type": "code",
   "execution_count": 3,
   "metadata": {},
   "outputs": [],
   "source": [
    "# สเกลข้อมูลฟีเจอร์ (X) และเป้าหมาย (y)\n",
    "scaler_X = MinMaxScaler()\n",
    "scaler_y = MinMaxScaler()\n",
    "\n",
    "X_scaled = scaler_X.fit_transform(X)\n",
    "y_scaled = scaler_y.fit_transform(y.values.reshape(-1, 1))\n",
    "\n",
    "# แบ่งข้อมูลเป็น training และ testing sets\n",
    "X_train, X_test, y_train, y_test = train_test_split(X_scaled, y_scaled, test_size=0.2, shuffle=False)\n"
   ]
  },
  {
   "cell_type": "markdown",
   "metadata": {},
   "source": [
    "ส่วนที่ 3: Reshape ข้อมูลสำหรับ LSTM"
   ]
  },
  {
   "cell_type": "code",
   "execution_count": 4,
   "metadata": {},
   "outputs": [
    {
     "name": "stdout",
     "output_type": "stream",
     "text": [
      "Reshaped X_train: (332779, 5, 1)\n",
      "Reshaped X_test: (83195, 5, 1)\n"
     ]
    }
   ],
   "source": [
    "# Reshape the data for LSTM (LSTM requires 3D input: [samples, timesteps, features])\n",
    "X_train_reshaped = X_train.reshape((X_train.shape[0], X_train.shape[1], 1))  # แทนที่จะใช้ (1, features), ให้ใช้ (features, 1)\n",
    "X_test_reshaped = X_test.reshape((X_test.shape[0], X_test.shape[1], 1))\n",
    "\n",
    "print(\"Reshaped X_train:\", X_train_reshaped.shape)\n",
    "print(\"Reshaped X_test:\", X_test_reshaped.shape)"
   ]
  },
  {
   "cell_type": "markdown",
   "metadata": {},
   "source": [
    "ส่วนที่ 4: การสร้างโมเดล และฝึกโมเดล"
   ]
  },
  {
   "cell_type": "code",
   "execution_count": 5,
   "metadata": {},
   "outputs": [
    {
     "name": "stdout",
     "output_type": "stream",
     "text": [
      "Epoch 1/10\n",
      "\u001b[1m10400/10400\u001b[0m \u001b[32m━━━━━━━━━━━━━━━━━━━━\u001b[0m\u001b[37m\u001b[0m \u001b[1m84s\u001b[0m 8ms/step - loss: 0.0033\n",
      "Epoch 2/10\n",
      "\u001b[1m10400/10400\u001b[0m \u001b[32m━━━━━━━━━━━━━━━━━━━━\u001b[0m\u001b[37m\u001b[0m \u001b[1m90s\u001b[0m 9ms/step - loss: 4.6697e-04\n",
      "Epoch 3/10\n",
      "\u001b[1m10400/10400\u001b[0m \u001b[32m━━━━━━━━━━━━━━━━━━━━\u001b[0m\u001b[37m\u001b[0m \u001b[1m86s\u001b[0m 8ms/step - loss: 4.2816e-04\n",
      "Epoch 4/10\n",
      "\u001b[1m10400/10400\u001b[0m \u001b[32m━━━━━━━━━━━━━━━━━━━━\u001b[0m\u001b[37m\u001b[0m \u001b[1m136s\u001b[0m 8ms/step - loss: 4.0963e-04\n",
      "Epoch 5/10\n",
      "\u001b[1m10400/10400\u001b[0m \u001b[32m━━━━━━━━━━━━━━━━━━━━\u001b[0m\u001b[37m\u001b[0m \u001b[1m84s\u001b[0m 8ms/step - loss: 4.0148e-04\n",
      "Epoch 6/10\n",
      "\u001b[1m10400/10400\u001b[0m \u001b[32m━━━━━━━━━━━━━━━━━━━━\u001b[0m\u001b[37m\u001b[0m \u001b[1m89s\u001b[0m 9ms/step - loss: 3.9353e-04\n",
      "Epoch 7/10\n",
      "\u001b[1m10400/10400\u001b[0m \u001b[32m━━━━━━━━━━━━━━━━━━━━\u001b[0m\u001b[37m\u001b[0m \u001b[1m92s\u001b[0m 9ms/step - loss: 3.9246e-04\n",
      "Epoch 8/10\n",
      "\u001b[1m10400/10400\u001b[0m \u001b[32m━━━━━━━━━━━━━━━━━━━━\u001b[0m\u001b[37m\u001b[0m \u001b[1m59s\u001b[0m 6ms/step - loss: 3.8829e-04\n",
      "Epoch 9/10\n",
      "\u001b[1m10400/10400\u001b[0m \u001b[32m━━━━━━━━━━━━━━━━━━━━\u001b[0m\u001b[37m\u001b[0m \u001b[1m83s\u001b[0m 8ms/step - loss: 3.8185e-04\n",
      "Epoch 10/10\n",
      "\u001b[1m10400/10400\u001b[0m \u001b[32m━━━━━━━━━━━━━━━━━━━━\u001b[0m\u001b[37m\u001b[0m \u001b[1m89s\u001b[0m 9ms/step - loss: 3.8294e-04\n"
     ]
    },
    {
     "data": {
      "text/plain": [
       "<keras.src.callbacks.history.History at 0x1e1e96ce0c0>"
      ]
     },
     "execution_count": 5,
     "metadata": {},
     "output_type": "execute_result"
    }
   ],
   "source": [
    "# Build LSTM model\n",
    "model = Sequential()\n",
    "model.add(LSTM(units=50, return_sequences=True, input_shape=(X_train.shape[1], 1)))\n",
    "model.add(Dropout(0.2))\n",
    "model.add(LSTM(units=50, return_sequences=False))\n",
    "model.add(Dropout(0.2))\n",
    "model.add(Dense(units=1))  # Output layer\n",
    "\n",
    "model.compile(optimizer='adam', loss='mean_squared_error')\n",
    "\n",
    "# Train the model\n",
    "model.fit(X_train_reshaped, y_train, epochs=10, batch_size=32)"
   ]
  },
  {
   "cell_type": "markdown",
   "metadata": {},
   "source": [
    "ส่วนที่ 5: การทำนายและการคำนวณค่า MSE และ RMSE"
   ]
  },
  {
   "cell_type": "code",
   "execution_count": 6,
   "metadata": {},
   "outputs": [
    {
     "name": "stdout",
     "output_type": "stream",
     "text": [
      "\u001b[1m2600/2600\u001b[0m \u001b[32m━━━━━━━━━━━━━━━━━━━━\u001b[0m\u001b[37m\u001b[0m \u001b[1m3s\u001b[0m 983us/step\n",
      "MSE: 28.15092383163469\n",
      "RMSE: 5.305744418235267\n"
     ]
    }
   ],
   "source": [
    "# Predict on the test data\n",
    "y_pred = model.predict(X_test_reshaped)\n",
    "\n",
    "# Inverse scale the predictions and the true values to their original scale\n",
    "y_pred_inverse = scaler_y.inverse_transform(y_pred)  # inverse สำหรับ y_pred เท่านั้น\n",
    "y_test_inverse = scaler_y.inverse_transform(y_test)  # inverse สำหรับ y_test ด้วย\n",
    "\n",
    "# Calculate Mean Squared Error (MSE)\n",
    "mse = mean_squared_error(y_test_inverse, y_pred_inverse)\n",
    "print(f'MSE: {mse}')\n",
    "\n",
    "# Calculate Root Mean Squared Error (RMSE)\n",
    "rmse = np.sqrt(mse)\n",
    "print(f'RMSE: {rmse}')"
   ]
  },
  {
   "cell_type": "markdown",
   "metadata": {},
   "source": [
    "ส่วนที่ 6: การแสดงผลกราฟของการทำนาย"
   ]
  },
  {
   "cell_type": "code",
   "execution_count": 7,
   "metadata": {},
   "outputs": [
    {
     "data": {
      "image/png": "[encoded data removed]",
      "text/plain": [
       "<Figure size 1000x600 with 1 Axes>"
      ]
     },
     "metadata": {},
     "output_type": "display_data"
    }
   ],
   "source": [
    "# Visualize the actual vs predicted values\n",
    "plt.figure(figsize=(10, 6))\n",
    "plt.plot(y_test_inverse, label='Actual Price')\n",
    "plt.plot(y_pred_inverse, label='Predicted Price', linestyle='--')\n",
    "plt.title('XAU/USD Price Prediction')\n",
    "plt.xlabel('Date')\n",
    "plt.ylabel('Price in USD')\n",
    "plt.legend()\n",
    "plt.show()"
   ]
  },
  {
   "cell_type": "markdown",
   "metadata": {},
   "source": [
    "ส่วนที่ 7: การทำ Hyperparameter Tuning"
   ]
  },
  {
   "cell_type": "code",
   "execution_count": 22,
   "metadata": {},
   "outputs": [
    {
     "name": "stdout",
     "output_type": "stream",
     "text": [
      "Fitting 3 folds for each of 32 candidates, totalling 96 fits\n"
     ]
    }
   ],
   "source": [
    "# ฟังก์ชันสร้างโมเดล\n",
    "def create_model(units=50, dropout_rate=0.2, optimizer='adam'):\n",
    "    model = Sequential()\n",
    "    model.add(LSTM(units=units, return_sequences=True, input_shape=(X_train.shape[1], 1)))  # กำหนด input_shape ที่นี่\n",
    "    model.add(Dropout(dropout_rate))\n",
    "    model.add(LSTM(units=units, return_sequences=False))\n",
    "    model.add(Dropout(dropout_rate))\n",
    "    model.add(Dense(1))\n",
    "    \n",
    "    # Compile โมเดล\n",
    "    model.compile(optimizer=optimizer, loss='mean_squared_error')\n",
    "    return model\n",
    "\n",
    "# สร้าง KerasRegressor สำหรับการทำงานร่วมกับ GridSearchCV\n",
    "model = KerasRegressor(model=create_model, epochs=10, batch_size=32, verbose=0)\n",
    "\n",
    "# กำหนดพารามิเตอร์สำหรับการทำ Grid Search\n",
    "param_grid = {\n",
    "    'model__units': [50, 100],\n",
    "    'model__dropout_rate': [0.2, 0.3],\n",
    "    'optimizer': ['adam', 'rmsprop'],\n",
    "    'batch_size': [32, 64],\n",
    "    'epochs': [10, 20]\n",
    "}\n",
    "\n",
    "# ใช้ GridSearchCV เพื่อหาพารามิเตอร์ที่ดีที่สุด\n",
    "grid = GridSearchCV(estimator=model, param_grid=param_grid, cv=3, n_jobs=-1, verbose=2)\n",
    "grid_result = grid.fit(X_train_reshaped, y_train)\n",
    "\n",
    "# แสดงผลพารามิเตอร์ที่ดีที่สุด\n",
    "print(f\"Best parameters found: {grid_result.best_params_}\")\n",
    "print(f\"Best score: {grid_result.best_score_}\")"
   ]
  },
  {
   "cell_type": "code",
   "execution_count": null,
   "metadata": {},
   "outputs": [],
   "source": [
    "# ใช้โมเดลที่ดีที่สุด\n",
    "best_model = grid_result.best_estimator_\n",
    "\n",
    "# ทำนายค่าโดยใช้โมเดลที่ดีที่สุด\n",
    "y_pred = best_model.predict(X_test_reshaped)\n",
    "\n",
    "# Inverse transform และคำนวณ RMSE\n",
    "y_pred_inverse = scaler_y.inverse_transform(y_pred.reshape(-1, 1))\n",
    "y_test_inverse = scaler_y.inverse_transform(y_test.reshape(-1, 1))  # ปรับขนาด y_test\n",
    "\n",
    "# Calculate RMSE\n",
    "rmse = np.sqrt(mean_squared_error(y_test_inverse, y_pred_inverse))\n",
    "print(f'RMSE: {rmse}')"
   ]
  },
  {
   "cell_type": "markdown",
   "metadata": {},
   "source": [
    "ส่วนที่ 8: อัพโหลดโมเดล"
   ]
  },
  {
   "cell_type": "code",
   "execution_count": 8,
   "metadata": {},
   "outputs": [],
   "source": [
    "import pickle\n",
    "\n",
    "# บันทึกโมเดลลงไฟล์ .pkl\n",
    "with open(\"scaler_y.pkl\", \"wb\") as f:\n",
    "    pickle.dump(scaler_y, f)"
   ]
  },
  {
   "cell_type": "code",
   "execution_count": 9,
   "metadata": {},
   "outputs": [
    {
     "name": "stderr",
     "output_type": "stream",
     "text": [
      "WARNING:absl:You are saving your model as an HDF5 file via `model.save()` or `keras.saving.save_model(model)`. This file format is considered legacy. We recommend using instead the native Keras format, e.g. `model.save('my_model.keras')` or `keras.saving.save_model(model, 'my_model.keras')`. \n"
     ]
    }
   ],
   "source": [
    "from tensorflow.keras.models import load_model\n",
    "\n",
    "# บันทึกโมเดลหลังจากการฝึกเสร็จสิ้น\n",
    "model.save('model.h5')  # บันทึกโมเดลเป็นไฟล์ HDF5"
   ]
  },
  {
   "cell_type": "code",
   "execution_count": 12,
   "metadata": {},
   "outputs": [
    {
     "name": "stderr",
     "output_type": "stream",
     "text": [
      "WARNING:absl:Compiled the loaded model, but the compiled metrics have yet to be built. `model.compile_metrics` will be empty until you train or evaluate the model.\n"
     ]
    }
   ],
   "source": [
    "from tensorflow.keras.models import load_model\n",
    "\n",
    "# โหลดโมเดลจากไฟล์ HDF5\n",
    "model = load_model('model.h5')"
   ]
  }
 ],
 "metadata": {
  "kernelspec": {
   "display_name": ".venv",
   "language": "python",
   "name": "python3"
  },
  "language_info": {
   "codemirror_mode": {
    "name": "ipython",
    "version": 3
   },
   "file_extension": ".py",
   "mimetype": "text/x-python",
   "name": "python",
   "nbconvert_exporter": "python",
   "pygments_lexer": "ipython3",
   "version": "3.12.6"
  }
 },
 "nbformat": 4,
 "nbformat_minor": 2
}
